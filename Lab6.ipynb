{
  "nbformat": 4,
  "nbformat_minor": 0,
  "metadata": {
    "colab": {
      "provenance": [],
      "collapsed_sections": [],
      "authorship_tag": "ABX9TyM2miFUKUpHJhew4tJzMeLj",
      "include_colab_link": true
    },
    "kernelspec": {
      "name": "python3",
      "display_name": "Python 3"
    },
    "language_info": {
      "name": "python"
    }
  },
  "cells": [
    {
      "cell_type": "markdown",
      "metadata": {
        "id": "view-in-github",
        "colab_type": "text"
      },
      "source": [
        "<a href=\"https://colab.research.google.com/github/JustJazzin/Phyx1_Lab/blob/main/Lab6.ipynb\" target=\"_parent\"><img src=\"https://colab.research.google.com/assets/colab-badge.svg\" alt=\"Open In Colab\"/></a>"
      ]
    },
    {
      "cell_type": "code",
      "execution_count": 12,
      "metadata": {
        "colab": {
          "base_uri": "https://localhost:8080/"
        },
        "id": "iZbKkziq-7fy",
        "outputId": "01694cba-600d-45c8-b654-6c688b3744af"
      },
      "outputs": [
        {
          "output_type": "stream",
          "name": "stdout",
          "text": [
            "Populating the interactive namespace from numpy and matplotlib\n"
          ]
        }
      ],
      "source": [
        "%pylab inline"
      ]
    },
    {
      "cell_type": "markdown",
      "source": [
        "# Rule 1"
      ],
      "metadata": {
        "id": "lluU5U2XDi2x"
      }
    },
    {
      "cell_type": "code",
      "source": [
        "2\n",
        "dA = float(input(\"Input Error in A: \"))\n",
        "c = float(input(\"Constant Value: \"))\n",
        "\n",
        "\n",
        "def rule_1(c,dA):\n",
        "  dQ = c*dA\n",
        "  return dQ\n",
        "\n",
        "dQ = rule_1(c,dA)\n",
        "print (\"Our Uncertanty is:\",dQ)\n"
      ],
      "metadata": {
        "colab": {
          "base_uri": "https://localhost:8080/"
        },
        "id": "1krrb7ih_BWd",
        "outputId": "292d5074-1661-460a-c109-fa2684a91b20"
      },
      "execution_count": null,
      "outputs": [
        {
          "output_type": "stream",
          "name": "stdout",
          "text": [
            "Input Error in A: 2\n",
            "Constant Value: 2\n",
            "Our Uncertanty is: 4.0\n"
          ]
        }
      ]
    },
    {
      "cell_type": "markdown",
      "source": [
        "# Rule 2\n"
      ],
      "metadata": {
        "id": "0N4_QF9dDs41"
      }
    },
    {
      "cell_type": "code",
      "source": [
        "c = float(input(\"Input Constant\"))\n",
        "m = float(input(\"Input the Exponent\"))\n",
        "A = float(input(\"Input Exponent Base\"))\n",
        "dA = float(input(\"Input Error in A\"))\n",
        "\n",
        "def rule_2(c,m,A,dA):\n",
        "  dQ = c*m*A**(m-1)*dA\n",
        "  return dQ\n",
        "\n",
        "dQ = rule_2(c,m,A,dA)\n",
        "\n",
        "print (\"Our Uncertanty is:\",dQ)"
      ],
      "metadata": {
        "colab": {
          "base_uri": "https://localhost:8080/"
        },
        "id": "0weHfNQTDuPB",
        "outputId": "b191f520-1f57-4190-f374-9b1beb783446"
      },
      "execution_count": 4,
      "outputs": [
        {
          "output_type": "stream",
          "name": "stdout",
          "text": [
            "Input Constant33.25\n",
            "Input the Exponent.5\n",
            "Input Exponent Base10\n",
            "Input Error in A.2\n",
            "Our Uncertanty is: 1.0514573220059862\n"
          ]
        }
      ]
    },
    {
      "cell_type": "markdown",
      "source": [
        "# Rule 3"
      ],
      "metadata": {
        "id": "aUjCQ05hF5M3"
      }
    },
    {
      "cell_type": "code",
      "source": [
        "dA = float(input(\"Input Error in A\"))\n",
        "dB = float(input(\"Input Error in B\"))\n",
        "\n",
        "def rule_3(dA,dB):\n",
        "  dQ = np.sqrt(dA**2+dB**2)\n",
        "  return dQ\n",
        "\n",
        "dQ = rule_3(dA,dB)\n",
        "\n",
        "print (dQ)"
      ],
      "metadata": {
        "colab": {
          "base_uri": "https://localhost:8080/"
        },
        "id": "fQGh6fpEF6Wx",
        "outputId": "9b655321-5ee9-4443-ef76-32ccdc795333"
      },
      "execution_count": null,
      "outputs": [
        {
          "output_type": "stream",
          "name": "stdout",
          "text": [
            "Input Error in A2\n",
            "Input Error in B2\n",
            "2.8284271247461903\n"
          ]
        }
      ]
    },
    {
      "cell_type": "markdown",
      "source": [
        "#Rule 4"
      ],
      "metadata": {
        "id": "ybzt-jmzG8kY"
      }
    },
    {
      "cell_type": "code",
      "source": [
        "m = float(input(\"Exponent 1: \"))\n",
        "n = float(input(\"Exponent 2: \"))\n",
        "dA = float(input(\"Error in A: \"))\n",
        "dB = float(input(\"Error in B: \"))\n",
        "A = float(input(\"Base Exponent 1: \"))\n",
        "B = float(input(\"Base Exponent 2: \"))\n",
        "Q = float(input(\"Q\"))\n",
        "\n",
        "def rule_4(m,n,dA,dB,A,B,Q):\n",
        "  dQ = Q*((((m*dA)/A)**2)+((n*dB)/B)**2)\n",
        "  return dQ\n",
        "\n",
        "dQ = rule_4(m,n,dA,dB,A,B,Q)\n",
        "\n",
        "print (dQ)\n"
      ],
      "metadata": {
        "colab": {
          "base_uri": "https://localhost:8080/"
        },
        "id": "jOwAnsmjG4eQ",
        "outputId": "a83d4431-68d9-4cbc-b8c4-2dce5cf3fb64"
      },
      "execution_count": null,
      "outputs": [
        {
          "output_type": "stream",
          "name": "stdout",
          "text": [
            "Exponent 1: 2\n",
            "Exponent 2: 2\n",
            "Error in A: 2\n",
            "Error in B: 2\n",
            "Base Exponent 1: 2\n",
            "Base Exponent 2: 2\n",
            "Q2\n",
            "16.0\n"
          ]
        }
      ]
    },
    {
      "cell_type": "code",
      "source": [],
      "metadata": {
        "id": "GO8QopXvKRvb"
      },
      "execution_count": null,
      "outputs": []
    },
    {
      "cell_type": "markdown",
      "source": [
        "3. After running the test #2 on my trials from the balistic pendulum, they did not agree with my results previously calculated. It's possible my inputs aren't correct, or my code isn't running properly."
      ],
      "metadata": {
        "id": "QQJIQ4e-sJEE"
      }
    },
    {
      "cell_type": "code",
      "source": [
        "y = np.array([1.1, 1.3, 1.4, 0.9, 0.95, 1.05])\n",
        "x = np.average(y)\n",
        "z = np.std(y)\n",
        "\n",
        "print (\"The avergae of the array were and the standard deviation were:\",x,z )\n",
        "\n"
      ],
      "metadata": {
        "colab": {
          "base_uri": "https://localhost:8080/"
        },
        "id": "5RU8oqf7szyN",
        "outputId": "4076de91-8475-4251-d165-fce4775629e0"
      },
      "execution_count": 17,
      "outputs": [
        {
          "output_type": "stream",
          "name": "stdout",
          "text": [
            "The avergae of the array were and the standard deviation were: 1.1166666666666667 0.17950549357115014\n"
          ]
        }
      ]
    },
    {
      "cell_type": "code",
      "source": [],
      "metadata": {
        "id": "opnKD-IMtARX"
      },
      "execution_count": null,
      "outputs": []
    },
    {
      "cell_type": "markdown",
      "source": [
        "$Q = \\sqrt{(\\delta A)^2 + (\\delta B)^2} $\n",
        "\n",
        "$Vi = \\bar{x}\\sqrt{\\frac{g}{2y}}$"
      ],
      "metadata": {
        "id": "Pk_VaC17uTE-"
      }
    },
    {
      "cell_type": "code",
      "source": [],
      "metadata": {
        "id": "Te6JV5JEucNw"
      },
      "execution_count": null,
      "outputs": []
    }
  ]
}