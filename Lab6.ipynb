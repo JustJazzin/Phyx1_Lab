{
  "nbformat": 4,
  "nbformat_minor": 0,
  "metadata": {
    "colab": {
      "provenance": [],
      "collapsed_sections": [],
      "authorship_tag": "ABX9TyM1Bmz+GjSybjZoha6UKMDH",
      "include_colab_link": true
    },
    "kernelspec": {
      "name": "python3",
      "display_name": "Python 3"
    },
    "language_info": {
      "name": "python"
    }
  },
  "cells": [
    {
      "cell_type": "markdown",
      "metadata": {
        "id": "view-in-github",
        "colab_type": "text"
      },
      "source": [
        "<a href=\"https://colab.research.google.com/github/JustJazzin/Phyx1_Lab/blob/main/Lab6.ipynb\" target=\"_parent\"><img src=\"https://colab.research.google.com/assets/colab-badge.svg\" alt=\"Open In Colab\"/></a>"
      ]
    },
    {
      "cell_type": "code",
      "execution_count": 21,
      "metadata": {
        "colab": {
          "base_uri": "https://localhost:8080/"
        },
        "id": "iZbKkziq-7fy",
        "outputId": "dd09a96a-5fd7-45e5-859c-72b86abdd0a8"
      },
      "outputs": [
        {
          "output_type": "stream",
          "name": "stdout",
          "text": [
            "Populating the interactive namespace from numpy and matplotlib\n"
          ]
        }
      ],
      "source": [
        "%pylab inline"
      ]
    },
    {
      "cell_type": "markdown",
      "source": [
        "# Rule 1"
      ],
      "metadata": {
        "id": "lluU5U2XDi2x"
      }
    },
    {
      "cell_type": "code",
      "source": [
        "dA = float(input(\"Input Error in A: \"))\n",
        "c = float(input(\"Constant Value: \"))\n",
        "\n",
        "\n",
        "def rule_1(c,dA):\n",
        "  dQ = c*dA\n",
        "  return dQ\n",
        "\n",
        "dQ = rule_1(c,dA)\n",
        "print (\"Our Uncertanty is:\",dQ)\n"
      ],
      "metadata": {
        "colab": {
          "base_uri": "https://localhost:8080/"
        },
        "id": "1krrb7ih_BWd",
        "outputId": "af7becc2-9515-4604-b69f-3ec799aa777b"
      },
      "execution_count": 20,
      "outputs": [
        {
          "output_type": "stream",
          "name": "stdout",
          "text": [
            "Input Error in A: .3\n",
            "Constant Value: 3\n",
            "Our Uncertanty is: 0.8999999999999999\n"
          ]
        }
      ]
    },
    {
      "cell_type": "markdown",
      "source": [
        "# Rule 2\n"
      ],
      "metadata": {
        "id": "0N4_QF9dDs41"
      }
    },
    {
      "cell_type": "code",
      "source": [
        "c = float(input(\"Input Constant\"))\n",
        "m = float(input(\"Input the Exponent\"))\n",
        "A = float(input(\"Input Exponent Base\"))\n",
        "dA = float(input(\"Input Error in A\"))\n",
        "\n",
        "def rule_2(c,m,A,dA):\n",
        "  dQ = c*m*A**(m-1)*dA\n",
        "  return dQ\n",
        "\n",
        "dQ = rule_2(c,m,A,dA)\n",
        "\n",
        "print (\"Our Uncertanty is:\",dQ)"
      ],
      "metadata": {
        "colab": {
          "base_uri": "https://localhost:8080/"
        },
        "id": "0weHfNQTDuPB",
        "outputId": "f060c5b8-6a52-43cf-a5cb-08b4644a5d9f"
      },
      "execution_count": 27,
      "outputs": [
        {
          "output_type": "stream",
          "name": "stdout",
          "text": [
            "Input Constant2\n",
            "Input the Exponent2\n",
            "Input Exponent Base2\n",
            "Input Error in A2\n",
            "Our Uncertanty is: 16.0\n"
          ]
        }
      ]
    },
    {
      "cell_type": "markdown",
      "source": [
        "# Rule 3"
      ],
      "metadata": {
        "id": "aUjCQ05hF5M3"
      }
    },
    {
      "cell_type": "code",
      "source": [
        "dA = float(input(\"Input Error in A\"))\n",
        "dB = float(input(\"Input Error in B\"))\n",
        "\n",
        "def rule_3(dA,dB):\n",
        "  dQ = np.sqrt(dA**2+dB**2)\n",
        "  return dQ\n",
        "\n",
        "dQ = rule_3(dA,dB)\n",
        "\n",
        "print (dQ)"
      ],
      "metadata": {
        "colab": {
          "base_uri": "https://localhost:8080/"
        },
        "id": "fQGh6fpEF6Wx",
        "outputId": "85ceac95-5d26-42b7-dfb9-be3eeab53a8c"
      },
      "execution_count": 28,
      "outputs": [
        {
          "output_type": "stream",
          "name": "stdout",
          "text": [
            "Input Error in A.3\n",
            "Input Error in B.3\n",
            "0.4242640687119285\n"
          ]
        }
      ]
    },
    {
      "cell_type": "markdown",
      "source": [
        "#Rule 4"
      ],
      "metadata": {
        "id": "ybzt-jmzG8kY"
      }
    },
    {
      "cell_type": "code",
      "source": [
        "m = float(input(\"Exponent 1: \"))\n",
        "n = float(input(\"Exponent 2: \"))\n",
        "dA = float(input(\"Error in A: \"))\n",
        "dB = float(input(\"Error in B: \"))\n",
        "A = float(input(\"Base Exponent 1: \"))\n",
        "B = float(input(\"Base Exponent 2: \"))\n",
        "Q = float(input(\"Q\"))\n",
        "\n",
        "def rule_4(m,n,dA,dB,A,B,Q):\n",
        "  dQ = Q*((((m*dA)/A)**2)+((n*dB)/B)**2)\n",
        "  return dQ\n",
        "\n",
        "dQ = rule_4(m,n,dA,dB,A,B,Q)\n",
        "\n",
        "print (dQ)\n"
      ],
      "metadata": {
        "colab": {
          "base_uri": "https://localhost:8080/"
        },
        "id": "jOwAnsmjG4eQ",
        "outputId": "9f40c7f2-5514-477b-896e-b0d7c7c39372"
      },
      "execution_count": 31,
      "outputs": [
        {
          "output_type": "stream",
          "name": "stdout",
          "text": [
            "Exponent 1: 2\n",
            "Exponent 2: 2\n",
            "Error in A: 2\n",
            "Error in B: 2\n",
            "Base Exponent 1: 2\n",
            "Base Exponent 2: 2\n",
            "Q2\n",
            "16.0\n"
          ]
        }
      ]
    },
    {
      "cell_type": "code",
      "source": [],
      "metadata": {
        "id": "GO8QopXvKRvb"
      },
      "execution_count": null,
      "outputs": []
    }
  ]
}