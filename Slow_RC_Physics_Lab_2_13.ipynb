{
  "cells": [
    {
      "cell_type": "code",
      "execution_count": 2,
      "id": "fe7c637b",
      "metadata": {
        "id": "fe7c637b"
      },
      "outputs": [],
      "source": [
        "import numpy as np\n",
        "import matplotlib.pyplot as plt"
      ]
    },
    {
      "cell_type": "code",
      "execution_count": 3,
      "id": "f611a671",
      "metadata": {
        "id": "f611a671",
        "outputId": "1b78a272-7830-4fc1-ea16-3e5afc708adb",
        "colab": {
          "base_uri": "https://localhost:8080/",
          "height": 279
        }
      },
      "outputs": [
        {
          "output_type": "display_data",
          "data": {
            "text/plain": [
              "<Figure size 432x288 with 1 Axes>"
            ],
            "image/png": "[encoded data removed]"
          },
          "metadata": {
            "needs_background": "light"
          }
        }
      ],
      "source": [
        "#Experiment 1 Charging\n",
        "\n",
        "V = np.array ([0, 4.3, 6.9, 8.6, 9.6, 10.3, 10.7, 11, 11.2, 11.3, 11.3, 11.4, 11.4]) #Volts\n",
        "t = np.array ([0, 10, 20, 30, 40, 50, 60, 70, 80, 90, 100 , 110, 120]) #time in seconds\n",
        "\n",
        "\n",
        "plt.ylabel(\"Volts\")\n",
        "plt.xlabel(\"Time\")\n",
        "\n",
        "plt.plot(t,V);"
      ]
    },
    {
      "cell_type": "code",
      "execution_count": 5,
      "id": "8882b806",
      "metadata": {
        "id": "8882b806",
        "outputId": "a4a8cbc4-33cb-4d8e-fd46-7fd3d191ccff",
        "colab": {
          "base_uri": "https://localhost:8080/",
          "height": 279
        }
      },
      "outputs": [
        {
          "output_type": "display_data",
          "data": {
            "text/plain": [
              "<Figure size 432x288 with 1 Axes>"
            ],
            "image/png": "[encoded data removed]"
          },
          "metadata": {
            "needs_background": "light"
          }
        }
      ],
      "source": [
        "\n",
        "import numpy as np\n",
        "import matplotlib.pyplot as plt\n",
        "\n",
        "\n",
        "#Experiment 2 Discharging\n",
        "\n",
        "V = np.array ([11.41, 7.2, 4.55, 2.94, 1.88, 1.20, .776, .51, .332, .217, .147, .1, .069]) #Volts\n",
        "t = np.array ([0, 10, 20, 30, 40, 50, 60, 70, 80, 90, 100 , 110, 120]) #time in seconds\n",
        "\n",
        "\n",
        "plt.ylabel(\"Volts\")\n",
        "plt.xlabel(\"Time\")\n",
        "\n",
        "plt.plot(t,V);"
      ]
    },
    {
      "cell_type": "code",
      "execution_count": null,
      "id": "71920dcd",
      "metadata": {
        "id": "71920dcd"
      },
      "outputs": [],
      "source": []
    }
  ],
  "metadata": {
    "kernelspec": {
      "display_name": "Python 3 (ipykernel)",
      "language": "python",
      "name": "python3"
    },
    "language_info": {
      "codemirror_mode": {
        "name": "ipython",
        "version": 3
      },
      "file_extension": ".py",
      "mimetype": "text/x-python",
      "name": "python",
      "nbconvert_exporter": "python",
      "pygments_lexer": "ipython3",
      "version": "3.9.12"
    },
    "colab": {
      "provenance": []
    }
  },
  "nbformat": 4,
  "nbformat_minor": 5
}